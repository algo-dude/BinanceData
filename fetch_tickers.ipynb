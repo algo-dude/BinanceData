{
 "cells": [
  {
   "cell_type": "code",
   "execution_count": 13,
   "metadata": {},
   "outputs": [],
   "source": [
    "import ccxt\n",
    "import pandas as pd\n",
    "\n",
    "    # Fetch OHLCV data \n",
    "    #\n",
    "    #  @staticmethod\n",
    "def fetchTickers(days: int = 30) -> list:\n",
    "        exchange = ccxt.binance({\n",
    "           'timeout': 10000,\n",
    "           'enableRateLimit': True,\n",
    "           'rateLimit': 1000,\n",
    "           'options': {\n",
    "               'defaultType': 'future',\n",
    "            \n",
    "           }\n",
    "       })\n",
    "        exchange.loadMarkets()\n",
    "\n",
    "        # Get all OHLCV data since\n",
    "        since = exchange.milliseconds() - days * 24 * 60 * 60 * 1000\n",
    "\n",
    "        # Data container\n",
    "        ticker_list = []\n",
    "\n",
    "        #Fetch OHLCV data\n",
    "        ticker_list =  exchange.fetchTickers()\n",
    "\n",
    "\n",
    "\n",
    "\n",
    "        # Return OHLCV data\n",
    "        return ticker_list\n",
    "\n",
    "\n",
    "# Fetch OHLCV data\n",
    "# to use with asyncio\n",
    "# ohlcv = await self._exchange.fetchOHLCV(market.symbol, timeframe=timeframe, since=since)"
   ]
  },
  {
   "cell_type": "code",
   "execution_count": 24,
   "metadata": {},
   "outputs": [],
   "source": [
    "my_dict = fetchTickers()"
   ]
  },
  {
   "cell_type": "code",
   "execution_count": 25,
   "metadata": {},
   "outputs": [
    {
     "data": {
      "text/plain": [
       "143"
      ]
     },
     "execution_count": 25,
     "metadata": {},
     "output_type": "execute_result"
    }
   ],
   "source": [
    "len(my_dict.keys())"
   ]
  },
  {
   "cell_type": "code",
   "execution_count": 28,
   "metadata": {},
   "outputs": [
    {
     "data": {
      "text/plain": [
       "dict_keys(['DGB/USDT', 'BTCUSDT_210625', '1INCH/USDT', 'DEFI/USDT', 'FTT/BUSD', 'ANKR/USDT', 'KNC/USDT', 'BTCDOM/USDT', 'HOT/USDT', 'ZIL/USDT', 'LTC/USDT', 'BAT/USDT', 'REEF/USDT', 'AKRO/USDT', 'ONT/USDT', 'ETHUSDT_210625', 'TRB/USDT', 'BEL/USDT', 'ATOM/USDT', 'REN/USDT', 'ADA/USDT', 'LRC/USDT', 'BTT/USDT', 'DOGE/USDT', 'SOL/USDT', 'DOT/USDT', 'NKN/USDT', 'STMX/USDT', 'XEM/USDT', 'ICX/USDT', 'SUSHI/USDT', 'DASH/USDT', 'IOTA/USDT', 'IOST/USDT', 'MKR/USDT', 'WAVES/USDT', 'TLM/USDT', 'CRV/USDT', 'EOS/USDT', 'BTC/BUSD', 'KLAY/USDT', 'NEAR/USDT', 'ZEN/USDT', 'YFII/USDT', 'LINK/USDT', 'UNFI/USDT', 'BAND/USDT', 'TRX/USDT', 'DENT/USDT', 'RSR/USDT', 'BNB/BUSD', 'EGLD/USDT', 'C98/USDT', 'DOGE/BUSD', 'SAND/USDT', 'ALPHA/USDT', 'LUNA/USDT', 'MANA/USDT', 'GTC/USDT', 'MATIC/USDT', 'KEEP/USDT', 'XMR/USDT', 'ALICE/USDT', 'OMG/USDT', 'IOTX/USDT', 'KAVA/USDT', 'CELO/USDT', 'AAVE/USDT', 'ONE/USDT', 'ALGO/USDT', 'COMP/USDT', 'SOL/BUSD', 'BTCUSDT_211231', 'YFI/USDT', 'XRP/USDT', 'GRT/USDT', 'BNB/USDT', 'ETHUSDT_210924', 'XRP/BUSD', 'RVN/USDT', 'ATA/USDT', 'ETHUSDT_211231', 'VET/USDT', 'SXP/USDT', 'CHR/USDT', 'ZRX/USDT', 'DYDX/USDT', 'DODO/USDT', 'BTS/USDT', 'AR/USDT', 'MASK/USDT', 'LIT/USDT', 'SKL/USDT', '1000XEC/USDT', 'MTL/USDT', 'BLZ/USDT', 'HBAR/USDT', 'COTI/USDT', 'KSM/USDT', 'HNT/USDT', 'QTUM/USDT', 'BAKE/USDT', 'BTCUSDT_210924', 'FIL/USDT', 'OCEAN/USDT', 'FTM/USDT', 'BZRX/USDT', 'NEO/USDT', 'SNX/USDT', 'RLC/USDT', 'AUDIO/USDT', 'THETA/USDT', 'ADA/BUSD', 'CVC/USDT', 'CELR/USDT', 'STORJ/USDT', 'FLM/USDT', 'ETH/USDT', 'ZEC/USDT', 'SFP/USDT', 'UNI/USDT', 'ENJ/USDT', 'GALA/USDT', 'ETC/USDT', 'CTK/USDT', 'XTZ/USDT', 'SC/USDT', '1000SHIB/USDT', 'RAY/USDT', 'RUNE/USDT', 'XLM/USDT', 'ICP/USDT', 'SRM/USDT', 'LINA/USDT', 'CHZ/USDT', 'BAL/USDT', 'ETH/BUSD', 'OGN/USDT', 'AXS/USDT', 'AVAX/USDT', 'TOMO/USDT', 'BCH/USDT'])"
      ]
     },
     "execution_count": 28,
     "metadata": {},
     "output_type": "execute_result"
    }
   ],
   "source": [
    "my_dict.keys()"
   ]
  },
  {
   "cell_type": "code",
   "execution_count": null,
   "metadata": {},
   "outputs": [],
   "source": []
  }
 ],
 "metadata": {
  "interpreter": {
   "hash": "949777d72b0d2535278d3dc13498b2535136f6dfe0678499012e853ee9abcab1"
  },
  "kernelspec": {
   "display_name": "Python 3.9.0 64-bit",
   "name": "python3"
  },
  "language_info": {
   "codemirror_mode": {
    "name": "ipython",
    "version": 3
   },
   "file_extension": ".py",
   "mimetype": "text/x-python",
   "name": "python",
   "nbconvert_exporter": "python",
   "pygments_lexer": "ipython3",
   "version": "3.9.0"
  },
  "orig_nbformat": 4
 },
 "nbformat": 4,
 "nbformat_minor": 2
}
