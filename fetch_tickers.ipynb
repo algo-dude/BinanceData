{
 "cells": [
  {
   "cell_type": "code",
   "execution_count": 22,
   "metadata": {},
   "outputs": [],
   "source": [
    "import ccxt\n",
    "import pandas as pd\n",
    "\n",
    "    # Fetch OHLCV data \n",
    "    #\n",
    "    #  @staticmethod\n",
    "def fetchTickers(market) -> dict:\n",
    "        exchange = ccxt.binance({\n",
    "           'timeout': 10000,\n",
    "           'enableRateLimit': True,\n",
    "           'options': {\n",
    "               'defaultType': market,\n",
    "            \n",
    "           }\n",
    "       })\n",
    "        exchange.loadMarkets()\n",
    "\n",
    "        # Data container\n",
    "        ticker_list = []\n",
    "\n",
    "        #Fetch OHLCV data\n",
    "        ticker_list =  exchange.fetchTickers()\n",
    "\n",
    "        # Return OHLCV data\n",
    "        return ticker_list\n"
   ]
  },
  {
   "cell_type": "code",
   "execution_count": 28,
   "metadata": {},
   "outputs": [],
   "source": [
    "my_dict = fetchTickers('future')"
   ]
  },
  {
   "cell_type": "code",
   "execution_count": 29,
   "metadata": {},
   "outputs": [
    {
     "name": "stdout",
     "output_type": "stream",
     "text": [
      "[]\n"
     ]
    }
   ],
   "source": [
    "\n",
    "# remove keys with underscore\n",
    "for key in list(filter(lambda x: '_' in x, my_dict.keys())):\n",
    "    del my_dict[key]\n",
    "\n",
    "print(list(filter(lambda x: '_' in x, my_dict.keys())))\n",
    " \n"
   ]
  },
  {
   "cell_type": "code",
   "execution_count": 26,
   "metadata": {},
   "outputs": [
    {
     "data": {
      "text/plain": [
       "dict"
      ]
     },
     "execution_count": 26,
     "metadata": {},
     "output_type": "execute_result"
    }
   ],
   "source": [
    "type(my_dict)\n"
   ]
  },
  {
   "cell_type": "code",
   "execution_count": 30,
   "metadata": {},
   "outputs": [
    {
     "data": {
      "text/plain": [
       "dict_keys(['BAKE/USDT', 'NKN/USDT', 'XEM/USDT', 'LRC/USDT', 'ZEC/USDT', 'LINA/USDT', 'YFI/USDT', 'RVN/USDT', 'QTUM/USDT', 'SXP/USDT', 'CVC/USDT', 'CHZ/USDT', 'REEF/USDT', 'FIL/USDT', 'MTL/USDT', 'XRP/USDT', 'MATIC/USDT', 'APE/USDT', 'SOL/BUSD', 'COTI/USDT', 'NEO/USDT', 'ALGO/USDT', 'HBAR/USDT', 'BAT/USDT', 'REN/USDT', 'ADA/USDT', 'AVAX/USDT', 'HOT/USDT', 'TRX/USDT', 'AXS/USDT', 'AKRO/USDT', 'IMX/USDT', 'SC/USDT', 'ALPHA/USDT', 'KNC/USDT', 'BTC/BUSD', 'CHR/USDT', 'AUDIO/USDT', 'API3/USDT', 'XTZ/USDT', 'KSM/USDT', 'BTS/USDT', 'HNT/USDT', 'DASH/USDT', 'ICP/USDT', 'DGB/USDT', 'DOGE/USDT', 'MASK/USDT', 'ARPA/USDT', 'VET/USDT', 'AAVE/USDT', 'IOTX/USDT', 'SRM/USDT', 'ONE/USDT', 'RLC/USDT', 'NEAR/USDT', 'GTC/USDT', 'STORJ/USDT', 'EGLD/USDT', 'WAVES/USDT', 'AR/USDT', 'ETH/USDT', '1INCH/USDT', 'EOS/USDT', 'LUNA/USDT', 'PEOPLE/USDT', 'UNFI/USDT', 'SUSHI/USDT', 'RSR/USDT', 'OMG/USDT', 'IOTA/USDT', 'DODO/USDT', 'CRV/USDT', 'ICX/USDT', 'ALICE/USDT', 'OGN/USDT', 'FTT/BUSD', 'RAY/USDT', 'BCH/USDT', 'FTM/USDT', 'BLZ/USDT', '1000BTTC/USDT', 'BNB/USDT', 'KAVA/USDT', 'SKL/USDT', 'BNB/BUSD', 'SOL/USDT', 'OCEAN/USDT', 'BTC/USDT', 'BTCDOM/USDT', 'DOGE/BUSD', 'LINK/USDT', 'SAND/USDT', 'ZRX/USDT', 'C98/USDT', 'XLM/USDT', 'GALA/USDT', 'ANKR/USDT', 'MANA/USDT', 'TRB/USDT', 'THETA/USDT', 'XRP/BUSD', 'ROSE/USDT', 'UNI/USDT', 'STMX/USDT', 'IOST/USDT', 'FLOW/USDT', 'BAND/USDT', 'KLAY/USDT', 'ETC/USDT', 'ETH/BUSD', 'ZIL/USDT', 'CTSI/USDT', 'ANT/USDT', 'ENJ/USDT', 'LTC/USDT', 'RUNE/USDT', 'DYDX/USDT', 'CTK/USDT', 'LIT/USDT', 'SFP/USDT', 'ATOM/USDT', 'ZEN/USDT', 'TOMO/USDT', 'YFII/USDT', 'DEFI/USDT', 'FLM/USDT', 'ANC/USDT', '1000XEC/USDT', 'ADA/BUSD', 'CELO/USDT', 'ATA/USDT', 'BEL/USDT', 'COMP/USDT', 'ENS/USDT', 'ONT/USDT', 'DUSK/USDT', '1000SHIB/USDT', 'TLM/USDT', 'DOT/USDT', 'GRT/USDT', 'XMR/USDT', 'MKR/USDT', 'GMT/USDT', 'CELR/USDT', 'BAL/USDT', 'DENT/USDT', 'LPT/USDT', 'SNX/USDT'])"
      ]
     },
     "execution_count": 30,
     "metadata": {},
     "output_type": "execute_result"
    }
   ],
   "source": [
    "my_dict.keys()"
   ]
  },
  {
   "cell_type": "code",
   "execution_count": null,
   "metadata": {},
   "outputs": [],
   "source": []
  }
 ],
 "metadata": {
  "interpreter": {
   "hash": "949777d72b0d2535278d3dc13498b2535136f6dfe0678499012e853ee9abcab1"
  },
  "kernelspec": {
   "display_name": "Python 3.9.0 64-bit",
   "name": "python3"
  },
  "language_info": {
   "codemirror_mode": {
    "name": "ipython",
    "version": 3
   },
   "file_extension": ".py",
   "mimetype": "text/x-python",
   "name": "python",
   "nbconvert_exporter": "python",
   "pygments_lexer": "ipython3",
   "version": "3.9.0"
  },
  "orig_nbformat": 4
 },
 "nbformat": 4,
 "nbformat_minor": 2
}
