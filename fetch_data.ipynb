{
 "cells": [
  {
   "cell_type": "code",
   "execution_count": null,
   "metadata": {},
   "outputs": [],
   "source": [
    "import ccxt\n",
    "import pandas as pd\n",
    "\n",
    "    # Fetch OHLCV data \n",
    "    #\n",
    "    #  @staticmethod\n",
    "def fetchOHLCVData(symbol: str, timeframe: str, days: int = 30) -> list:\n",
    "        import ccxt\n",
    "        exchange = ccxt.binance({\n",
    "           'timeout': 10000,\n",
    "           'enableRateLimit': True,\n",
    "           'rateLimit': 250,\n",
    "           'options': {\n",
    "               'defaultType': 'future',\n",
    "            \n",
    "           }\n",
    "       })\n",
    "        exchange.loadMarkets()\n",
    "\n",
    "        # Get all OHLCV data since\n",
    "        since = exchange.milliseconds() - days * 24 * 60 * 60 * 1000\n",
    "\n",
    "        # Data container\n",
    "        ohlcv_data = []\n",
    "\n",
    "        # Paginate through data\n",
    "        while since < exchange.milliseconds():\n",
    "\n",
    "            #Fetch OHLCV data\n",
    "            ohlcv =  exchange.fetchOHLCV(symbol, timeframe=timeframe, since=since)\n",
    "\n",
    "            # Did we receive enough valid data\n",
    "            if ohlcv and len(ohlcv) > 1:\n",
    "                since = ohlcv[-1][0] + (ohlcv[-1][0] - ohlcv[-2][0])\n",
    "\n",
    "                # Append OHLCV data\n",
    "                ohlcv_data += ohlcv\n",
    "            else:\n",
    "                break\n",
    "\n",
    "        # Return OHLCV data\n",
    "        return ohlcv_data\n",
    "\n",
    "def data_to_df(data):\n",
    "    df = pd.DataFrame(data, columns=['Timestamp', 'Open', 'High', 'Low', 'Close', 'Volume'])\n",
    "    return df\n",
    "\n"
   ]
  }
 ],
 "metadata": {
  "interpreter": {
   "hash": "949777d72b0d2535278d3dc13498b2535136f6dfe0678499012e853ee9abcab1"
  },
  "kernelspec": {
   "display_name": "Python 3.9.0 64-bit",
   "name": "python3"
  },
  "language_info": {
   "name": "python",
   "version": "3.9.0"
  },
  "orig_nbformat": 4
 },
 "nbformat": 4,
 "nbformat_minor": 2
}
