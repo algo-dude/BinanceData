{
 "cells": [
  {
   "cell_type": "code",
   "execution_count": null,
   "metadata": {},
   "outputs": [],
   "source": [
    "'''\n",
    "Would be cool to plot a base and then show buys and sells with amounts on the chart.\n",
    "\n",
    "\n",
    "'''"
   ]
  },
  {
   "cell_type": "code",
   "execution_count": 2,
   "metadata": {},
   "outputs": [],
   "source": [
    "import pandas as pd\n",
    "from functions import *\n",
    "#%matplotlib inline\n",
    "filepath = 'oct_binance.csv'"
   ]
  },
  {
   "cell_type": "code",
   "execution_count": 3,
   "metadata": {},
   "outputs": [],
   "source": [
    "df = pd.read_csv(filepath)\n",
    "df = df.rename(columns={'Date(UTC)':'Date', 'Pair':'Base', 'Realized Profit':'RealizedProfit'})\n",
    "df['Fee'] = df['Fee'].str.replace(' USDT', '')\n",
    "df['Fee'] = df['Fee'].str.replace(' BNB', '')\n",
    "df['Amount'] = df['Amount'].str.replace(' USDT', '')\n",
    "df['RealizedProfit'] = df['RealizedProfit'].replace(',','')         # i have had .str before replace, but got rid of it?\n",
    "df['Amount'] = df['Amount'].str.replace(',','')\n",
    "df['Base'] = df['Base'].str.replace('USDT','')\n",
    "df = df.astype({'RealizedProfit': float, 'Fee': float, 'Amount': float})\n",
    "df.Date = pd.to_datetime(df.Date)\n",
    "pairs = df.Base.unique()\n"
   ]
  },
  {
   "cell_type": "code",
   "execution_count": 9,
   "metadata": {},
   "outputs": [
    {
     "data": {
      "text/plain": [
       "53"
      ]
     },
     "execution_count": 9,
     "metadata": {},
     "output_type": "execute_result"
    }
   ],
   "source": [
    "df.head(20)\n",
    "# how many trades do I make on average between entry and exit?\n",
    "\n",
    "# how do I count the average number of unique dates between one symbol that has\n",
    "# a realized profit to the next one on the same symbol with realized profit?\n",
    "\n",
    "\n",
    "# df_grouped = df.groupby\n",
    "# df_grouped\n",
    "len(pairs)\n"
   ]
  },
  {
   "cell_type": "code",
   "execution_count": 9,
   "metadata": {},
   "outputs": [
    {
     "name": "stdout",
     "output_type": "stream",
     "text": [
      "<class 'pandas.core.frame.DataFrame'>\n",
      "RangeIndex: 21261 entries, 0 to 21260\n",
      "Data columns (total 8 columns):\n",
      " #   Column          Non-Null Count  Dtype         \n",
      "---  ------          --------------  -----         \n",
      " 0   Date            21261 non-null  datetime64[ns]\n",
      " 1   Base            21261 non-null  object        \n",
      " 2   Side            21261 non-null  object        \n",
      " 3   Price           21261 non-null  float64       \n",
      " 4   Quantity        21261 non-null  float64       \n",
      " 5   Amount          21261 non-null  float64       \n",
      " 6   Fee             21261 non-null  float64       \n",
      " 7   RealizedProfit  21261 non-null  float64       \n",
      "dtypes: datetime64[ns](1), float64(5), object(2)\n",
      "memory usage: 1.3+ MB\n"
     ]
    }
   ],
   "source": [
    "df.info()"
   ]
  },
  {
   "cell_type": "code",
   "execution_count": 76,
   "metadata": {},
   "outputs": [
    {
     "data": {
      "text/html": [
       "<div>\n",
       "<style scoped>\n",
       "    .dataframe tbody tr th:only-of-type {\n",
       "        vertical-align: middle;\n",
       "    }\n",
       "\n",
       "    .dataframe tbody tr th {\n",
       "        vertical-align: top;\n",
       "    }\n",
       "\n",
       "    .dataframe thead th {\n",
       "        text-align: right;\n",
       "    }\n",
       "</style>\n",
       "<table border=\"1\" class=\"dataframe\">\n",
       "  <thead>\n",
       "    <tr style=\"text-align: right;\">\n",
       "      <th></th>\n",
       "      <th>Price</th>\n",
       "      <th>Quantity</th>\n",
       "      <th>Amount</th>\n",
       "      <th>Fee</th>\n",
       "      <th>RealizedProfit</th>\n",
       "    </tr>\n",
       "  </thead>\n",
       "  <tbody>\n",
       "    <tr>\n",
       "      <th>count</th>\n",
       "      <td>29049.000000</td>\n",
       "      <td>29049.000000</td>\n",
       "      <td>29049.000000</td>\n",
       "      <td>29049.000000</td>\n",
       "      <td>29049.000000</td>\n",
       "    </tr>\n",
       "    <tr>\n",
       "      <th>mean</th>\n",
       "      <td>0.569025</td>\n",
       "      <td>1691.652401</td>\n",
       "      <td>60.812931</td>\n",
       "      <td>-0.018495</td>\n",
       "      <td>0.085101</td>\n",
       "    </tr>\n",
       "    <tr>\n",
       "      <th>std</th>\n",
       "      <td>1.183540</td>\n",
       "      <td>7760.199119</td>\n",
       "      <td>124.226415</td>\n",
       "      <td>0.050614</td>\n",
       "      <td>9.612223</td>\n",
       "    </tr>\n",
       "    <tr>\n",
       "      <th>min</th>\n",
       "      <td>0.002053</td>\n",
       "      <td>0.100000</td>\n",
       "      <td>0.011955</td>\n",
       "      <td>-3.246122</td>\n",
       "      <td>-1143.584730</td>\n",
       "    </tr>\n",
       "    <tr>\n",
       "      <th>25%</th>\n",
       "      <td>0.030706</td>\n",
       "      <td>59.000000</td>\n",
       "      <td>35.949000</td>\n",
       "      <td>-0.010635</td>\n",
       "      <td>0.000000</td>\n",
       "    </tr>\n",
       "    <tr>\n",
       "      <th>50%</th>\n",
       "      <td>0.104470</td>\n",
       "      <td>377.000000</td>\n",
       "      <td>40.872810</td>\n",
       "      <td>-0.008383</td>\n",
       "      <td>0.000000</td>\n",
       "    </tr>\n",
       "    <tr>\n",
       "      <th>75%</th>\n",
       "      <td>0.659800</td>\n",
       "      <td>1334.000000</td>\n",
       "      <td>45.898200</td>\n",
       "      <td>-0.007352</td>\n",
       "      <td>0.000000</td>\n",
       "    </tr>\n",
       "    <tr>\n",
       "      <th>max</th>\n",
       "      <td>13.098500</td>\n",
       "      <td>639446.000000</td>\n",
       "      <td>8115.304600</td>\n",
       "      <td>-0.000002</td>\n",
       "      <td>74.949462</td>\n",
       "    </tr>\n",
       "  </tbody>\n",
       "</table>\n",
       "</div>"
      ],
      "text/plain": [
       "              Price       Quantity        Amount           Fee  RealizedProfit\n",
       "count  29049.000000   29049.000000  29049.000000  29049.000000    29049.000000\n",
       "mean       0.569025    1691.652401     60.812931     -0.018495        0.085101\n",
       "std        1.183540    7760.199119    124.226415      0.050614        9.612223\n",
       "min        0.002053       0.100000      0.011955     -3.246122    -1143.584730\n",
       "25%        0.030706      59.000000     35.949000     -0.010635        0.000000\n",
       "50%        0.104470     377.000000     40.872810     -0.008383        0.000000\n",
       "75%        0.659800    1334.000000     45.898200     -0.007352        0.000000\n",
       "max       13.098500  639446.000000   8115.304600     -0.000002       74.949462"
      ]
     },
     "execution_count": 76,
     "metadata": {},
     "output_type": "execute_result"
    }
   ],
   "source": [
    "df.describe()"
   ]
  },
  {
   "cell_type": "code",
   "execution_count": 8,
   "metadata": {},
   "outputs": [
    {
     "data": {
      "text/plain": [
       "0.8469512258100808"
      ]
     },
     "execution_count": 8,
     "metadata": {},
     "output_type": "execute_result"
    }
   ],
   "source": [
    "# total dollar amount traded\n",
    "df.Amount.sum() "
   ]
  },
  {
   "cell_type": "code",
   "execution_count": 4,
   "metadata": {},
   "outputs": [
    {
     "data": {
      "text/plain": [
       "0.8469512258100808"
      ]
     },
     "execution_count": 4,
     "metadata": {},
     "output_type": "execute_result"
    }
   ],
   "source": [
    "# average expectancy per round trip trade\n",
    "df.RealizedProfit.unique().mean()"
   ]
  },
  {
   "cell_type": "code",
   "execution_count": 5,
   "metadata": {},
   "outputs": [
    {
     "data": {
      "text/plain": [
       "135.35243"
      ]
     },
     "execution_count": 5,
     "metadata": {},
     "output_type": "execute_result"
    }
   ],
   "source": [
    "# biggest winner\n",
    "df.RealizedProfit.unique().max()"
   ]
  },
  {
   "cell_type": "code",
   "execution_count": 6,
   "metadata": {},
   "outputs": [
    {
     "data": {
      "text/plain": [
       "-493.19448532"
      ]
     },
     "execution_count": 6,
     "metadata": {},
     "output_type": "execute_result"
    }
   ],
   "source": [
    "# biggest loser\n",
    "df.RealizedProfit.unique().min()"
   ]
  },
  {
   "cell_type": "code",
   "execution_count": 7,
   "metadata": {},
   "outputs": [
    {
     "name": "stdout",
     "output_type": "stream",
     "text": [
      "closed trade quantity: 4444\n",
      "total trade quantity: 21261\n"
     ]
    }
   ],
   "source": [
    "# how many trades\n",
    "DCA_and_closed_trades(df)"
   ]
  },
  {
   "cell_type": "code",
   "execution_count": 13,
   "metadata": {},
   "outputs": [
    {
     "name": "stdout",
     "output_type": "stream",
     "text": [
      "closed trade quantity: 4444\n",
      "total trade quantity: 21261\n",
      "total dollar amount traded: $ 2150306.066525\n",
      "average expectancy per round trip trade: $ 0.8469512258100808\n",
      " biggest winner: $ 135.35243\n",
      " biggest loser: $ -493.19448532\n"
     ]
    }
   ],
   "source": [
    "DCA_and_closed_trades(df)\n",
    "print('total dollar amount traded: $', df.Amount.sum())\n",
    "print('average expectancy per round trip trade: $', df.RealizedProfit.unique().mean())\n",
    "print(' biggest winner: $', df.RealizedProfit.unique().max())\n",
    "print(' biggest loser: $', df.RealizedProfit.unique().min())\n"
   ]
  },
  {
   "cell_type": "code",
   "execution_count": 55,
   "metadata": {},
   "outputs": [
    {
     "data": {
      "text/html": [
       "<div>\n",
       "<style scoped>\n",
       "    .dataframe tbody tr th:only-of-type {\n",
       "        vertical-align: middle;\n",
       "    }\n",
       "\n",
       "    .dataframe tbody tr th {\n",
       "        vertical-align: top;\n",
       "    }\n",
       "\n",
       "    .dataframe thead th {\n",
       "        text-align: right;\n",
       "    }\n",
       "</style>\n",
       "<table border=\"1\" class=\"dataframe\">\n",
       "  <thead>\n",
       "    <tr style=\"text-align: right;\">\n",
       "      <th></th>\n",
       "      <th>Date</th>\n",
       "      <th>Base</th>\n",
       "      <th>Side</th>\n",
       "      <th>Price</th>\n",
       "      <th>Quantity</th>\n",
       "      <th>Amount</th>\n",
       "      <th>Fee</th>\n",
       "      <th>RealizedProfit</th>\n",
       "    </tr>\n",
       "  </thead>\n",
       "  <tbody>\n",
       "    <tr>\n",
       "      <th>0</th>\n",
       "      <td>2021-04-13 21:27:15</td>\n",
       "      <td>ALPHA</td>\n",
       "      <td>SELL</td>\n",
       "      <td>1.53724</td>\n",
       "      <td>13.0</td>\n",
       "      <td>19.98412</td>\n",
       "      <td>-0.007994</td>\n",
       "      <td>0.00000</td>\n",
       "    </tr>\n",
       "    <tr>\n",
       "      <th>1</th>\n",
       "      <td>2021-04-13 21:27:15</td>\n",
       "      <td>ALPHA</td>\n",
       "      <td>SELL</td>\n",
       "      <td>1.53714</td>\n",
       "      <td>3.0</td>\n",
       "      <td>4.61142</td>\n",
       "      <td>-0.001845</td>\n",
       "      <td>0.00000</td>\n",
       "    </tr>\n",
       "    <tr>\n",
       "      <th>2</th>\n",
       "      <td>2021-04-13 21:29:27</td>\n",
       "      <td>ALPHA</td>\n",
       "      <td>SELL</td>\n",
       "      <td>1.54096</td>\n",
       "      <td>16.0</td>\n",
       "      <td>24.65536</td>\n",
       "      <td>-0.004931</td>\n",
       "      <td>0.00000</td>\n",
       "    </tr>\n",
       "    <tr>\n",
       "      <th>3</th>\n",
       "      <td>2021-04-13 21:59:44</td>\n",
       "      <td>ALPHA</td>\n",
       "      <td>BUY</td>\n",
       "      <td>1.53027</td>\n",
       "      <td>32.0</td>\n",
       "      <td>48.96864</td>\n",
       "      <td>-0.019587</td>\n",
       "      <td>0.28226</td>\n",
       "    </tr>\n",
       "    <tr>\n",
       "      <th>4</th>\n",
       "      <td>NaN</td>\n",
       "      <td>NaN</td>\n",
       "      <td>NaN</td>\n",
       "      <td>NaN</td>\n",
       "      <td>NaN</td>\n",
       "      <td>NaN</td>\n",
       "      <td>NaN</td>\n",
       "      <td>NaN</td>\n",
       "    </tr>\n",
       "    <tr>\n",
       "      <th>...</th>\n",
       "      <td>...</td>\n",
       "      <td>...</td>\n",
       "      <td>...</td>\n",
       "      <td>...</td>\n",
       "      <td>...</td>\n",
       "      <td>...</td>\n",
       "      <td>...</td>\n",
       "      <td>...</td>\n",
       "    </tr>\n",
       "    <tr>\n",
       "      <th>29044</th>\n",
       "      <td>NaN</td>\n",
       "      <td>NaN</td>\n",
       "      <td>NaN</td>\n",
       "      <td>NaN</td>\n",
       "      <td>NaN</td>\n",
       "      <td>NaN</td>\n",
       "      <td>NaN</td>\n",
       "      <td>NaN</td>\n",
       "    </tr>\n",
       "    <tr>\n",
       "      <th>29045</th>\n",
       "      <td>NaN</td>\n",
       "      <td>NaN</td>\n",
       "      <td>NaN</td>\n",
       "      <td>NaN</td>\n",
       "      <td>NaN</td>\n",
       "      <td>NaN</td>\n",
       "      <td>NaN</td>\n",
       "      <td>NaN</td>\n",
       "    </tr>\n",
       "    <tr>\n",
       "      <th>29046</th>\n",
       "      <td>NaN</td>\n",
       "      <td>NaN</td>\n",
       "      <td>NaN</td>\n",
       "      <td>NaN</td>\n",
       "      <td>NaN</td>\n",
       "      <td>NaN</td>\n",
       "      <td>NaN</td>\n",
       "      <td>NaN</td>\n",
       "    </tr>\n",
       "    <tr>\n",
       "      <th>29047</th>\n",
       "      <td>NaN</td>\n",
       "      <td>NaN</td>\n",
       "      <td>NaN</td>\n",
       "      <td>NaN</td>\n",
       "      <td>NaN</td>\n",
       "      <td>NaN</td>\n",
       "      <td>NaN</td>\n",
       "      <td>NaN</td>\n",
       "    </tr>\n",
       "    <tr>\n",
       "      <th>29048</th>\n",
       "      <td>NaN</td>\n",
       "      <td>NaN</td>\n",
       "      <td>NaN</td>\n",
       "      <td>NaN</td>\n",
       "      <td>NaN</td>\n",
       "      <td>NaN</td>\n",
       "      <td>NaN</td>\n",
       "      <td>NaN</td>\n",
       "    </tr>\n",
       "  </tbody>\n",
       "</table>\n",
       "<p>29049 rows × 8 columns</p>\n",
       "</div>"
      ],
      "text/plain": [
       "                      Date   Base  Side    Price  Quantity    Amount  \\\n",
       "0      2021-04-13 21:27:15  ALPHA  SELL  1.53724      13.0  19.98412   \n",
       "1      2021-04-13 21:27:15  ALPHA  SELL  1.53714       3.0   4.61142   \n",
       "2      2021-04-13 21:29:27  ALPHA  SELL  1.54096      16.0  24.65536   \n",
       "3      2021-04-13 21:59:44  ALPHA   BUY  1.53027      32.0  48.96864   \n",
       "4                      NaN    NaN   NaN      NaN       NaN       NaN   \n",
       "...                    ...    ...   ...      ...       ...       ...   \n",
       "29044                  NaN    NaN   NaN      NaN       NaN       NaN   \n",
       "29045                  NaN    NaN   NaN      NaN       NaN       NaN   \n",
       "29046                  NaN    NaN   NaN      NaN       NaN       NaN   \n",
       "29047                  NaN    NaN   NaN      NaN       NaN       NaN   \n",
       "29048                  NaN    NaN   NaN      NaN       NaN       NaN   \n",
       "\n",
       "            Fee  RealizedProfit  \n",
       "0     -0.007994         0.00000  \n",
       "1     -0.001845         0.00000  \n",
       "2     -0.004931         0.00000  \n",
       "3     -0.019587         0.28226  \n",
       "4           NaN             NaN  \n",
       "...         ...             ...  \n",
       "29044       NaN             NaN  \n",
       "29045       NaN             NaN  \n",
       "29046       NaN             NaN  \n",
       "29047       NaN             NaN  \n",
       "29048       NaN             NaN  \n",
       "\n",
       "[29049 rows x 8 columns]"
      ]
     },
     "execution_count": 55,
     "metadata": {},
     "output_type": "execute_result"
    }
   ],
   "source": [
    "df.where(df.Base == 'ALPHA')"
   ]
  },
  {
   "cell_type": "code",
   "execution_count": 3,
   "metadata": {},
   "outputs": [
    {
     "data": {
      "text/html": [
       "<div>\n",
       "<style scoped>\n",
       "    .dataframe tbody tr th:only-of-type {\n",
       "        vertical-align: middle;\n",
       "    }\n",
       "\n",
       "    .dataframe tbody tr th {\n",
       "        vertical-align: top;\n",
       "    }\n",
       "\n",
       "    .dataframe thead th {\n",
       "        text-align: right;\n",
       "    }\n",
       "</style>\n",
       "<table border=\"1\" class=\"dataframe\">\n",
       "  <thead>\n",
       "    <tr style=\"text-align: right;\">\n",
       "      <th></th>\n",
       "      <th>Date</th>\n",
       "      <th>Base</th>\n",
       "      <th>Side</th>\n",
       "      <th>Price</th>\n",
       "      <th>Quantity</th>\n",
       "      <th>Amount</th>\n",
       "      <th>Fee</th>\n",
       "      <th>RealizedProfit</th>\n",
       "    </tr>\n",
       "  </thead>\n",
       "  <tbody>\n",
       "    <tr>\n",
       "      <th>29044</th>\n",
       "      <td>2021-07-01 00:07:57</td>\n",
       "      <td>XLM</td>\n",
       "      <td>BUY</td>\n",
       "      <td>0.27936</td>\n",
       "      <td>282.0</td>\n",
       "      <td>78.77952</td>\n",
       "      <td>-0.031512</td>\n",
       "      <td>1.06314</td>\n",
       "    </tr>\n",
       "    <tr>\n",
       "      <th>29045</th>\n",
       "      <td>2021-07-01 00:09:32</td>\n",
       "      <td>AKRO</td>\n",
       "      <td>BUY</td>\n",
       "      <td>0.01717</td>\n",
       "      <td>2323.0</td>\n",
       "      <td>39.88591</td>\n",
       "      <td>-0.007977</td>\n",
       "      <td>0.00000</td>\n",
       "    </tr>\n",
       "    <tr>\n",
       "      <th>29046</th>\n",
       "      <td>2021-07-01 00:09:51</td>\n",
       "      <td>AKRO</td>\n",
       "      <td>BUY</td>\n",
       "      <td>0.01716</td>\n",
       "      <td>2324.0</td>\n",
       "      <td>39.87984</td>\n",
       "      <td>-0.007976</td>\n",
       "      <td>0.00000</td>\n",
       "    </tr>\n",
       "    <tr>\n",
       "      <th>29047</th>\n",
       "      <td>2021-07-01 00:09:52</td>\n",
       "      <td>XLM</td>\n",
       "      <td>BUY</td>\n",
       "      <td>0.27861</td>\n",
       "      <td>143.0</td>\n",
       "      <td>39.84123</td>\n",
       "      <td>-0.007968</td>\n",
       "      <td>0.00000</td>\n",
       "    </tr>\n",
       "    <tr>\n",
       "      <th>29048</th>\n",
       "      <td>2021-07-01 00:09:52</td>\n",
       "      <td>TRX</td>\n",
       "      <td>BUY</td>\n",
       "      <td>0.06733</td>\n",
       "      <td>592.0</td>\n",
       "      <td>39.85936</td>\n",
       "      <td>-0.007972</td>\n",
       "      <td>0.00000</td>\n",
       "    </tr>\n",
       "  </tbody>\n",
       "</table>\n",
       "</div>"
      ],
      "text/plain": [
       "                     Date  Base Side    Price  Quantity    Amount       Fee  \\\n",
       "29044 2021-07-01 00:07:57   XLM  BUY  0.27936     282.0  78.77952 -0.031512   \n",
       "29045 2021-07-01 00:09:32  AKRO  BUY  0.01717    2323.0  39.88591 -0.007977   \n",
       "29046 2021-07-01 00:09:51  AKRO  BUY  0.01716    2324.0  39.87984 -0.007976   \n",
       "29047 2021-07-01 00:09:52   XLM  BUY  0.27861     143.0  39.84123 -0.007968   \n",
       "29048 2021-07-01 00:09:52   TRX  BUY  0.06733     592.0  39.85936 -0.007972   \n",
       "\n",
       "       RealizedProfit  \n",
       "29044         1.06314  \n",
       "29045         0.00000  \n",
       "29046         0.00000  \n",
       "29047         0.00000  \n",
       "29048         0.00000  "
      ]
     },
     "execution_count": 3,
     "metadata": {},
     "output_type": "execute_result"
    }
   ],
   "source": [
    "df.tail()"
   ]
  },
  {
   "cell_type": "code",
   "execution_count": 9,
   "metadata": {},
   "outputs": [
    {
     "data": {
      "text/plain": [
       "-0.06340505"
      ]
     },
     "execution_count": 9,
     "metadata": {},
     "output_type": "execute_result"
    }
   ],
   "source": [
    "df['Fee'][-5:].sum()"
   ]
  },
  {
   "cell_type": "code",
   "execution_count": null,
   "metadata": {},
   "outputs": [],
   "source": []
  }
 ],
 "metadata": {
  "interpreter": {
   "hash": "949777d72b0d2535278d3dc13498b2535136f6dfe0678499012e853ee9abcab1"
  },
  "kernelspec": {
   "display_name": "Python 3.9.0 64-bit",
   "name": "python3"
  },
  "language_info": {
   "codemirror_mode": {
    "name": "ipython",
    "version": 3
   },
   "file_extension": ".py",
   "mimetype": "text/x-python",
   "name": "python",
   "nbconvert_exporter": "python",
   "pygments_lexer": "ipython3",
   "version": "3.9.0"
  },
  "orig_nbformat": 4
 },
 "nbformat": 4,
 "nbformat_minor": 2
}
